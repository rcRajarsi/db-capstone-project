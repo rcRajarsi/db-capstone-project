{
 "cells": [
  {
   "cell_type": "code",
   "execution_count": 1,
   "id": "6cf40d9f",
   "metadata": {},
   "outputs": [
    {
     "name": "stdout",
     "output_type": "stream",
     "text": [
      "Collecting mysql-connector-python\n",
      "  Downloading mysql_connector_python-8.3.0-cp39-cp39-win_amd64.whl (15.4 MB)\n",
      "Installing collected packages: mysql-connector-python\n",
      "Successfully installed mysql-connector-python-8.3.0\n"
     ]
    }
   ],
   "source": [
    "!pip install mysql-connector-python"
   ]
  },
  {
   "cell_type": "code",
   "execution_count": 2,
   "id": "c83b7928",
   "metadata": {},
   "outputs": [],
   "source": [
    "import mysql.connector as connector"
   ]
  },
  {
   "cell_type": "code",
   "execution_count": 3,
   "id": "083ed46e",
   "metadata": {},
   "outputs": [],
   "source": [
    "connection = connector.connect(user=\"admin1\", password=\"rajarsi22*\")"
   ]
  },
  {
   "cell_type": "code",
   "execution_count": 4,
   "id": "172cbea8",
   "metadata": {},
   "outputs": [],
   "source": [
    "cursor = connection.cursor()"
   ]
  },
  {
   "cell_type": "code",
   "execution_count": 5,
   "id": "a60b08b4",
   "metadata": {},
   "outputs": [],
   "source": [
    "cursor.execute(\"USE littlelemondb\")"
   ]
  },
  {
   "cell_type": "code",
   "execution_count": 9,
   "id": "2d5fc4fe",
   "metadata": {},
   "outputs": [],
   "source": [
    "join_query = \"\"\"SELECT \n",
    "Booking.BookingID,\n",
    "Booking.TableNumber,\n",
    "Orders.TotalCost\n",
    "FROM Booking\n",
    "LEFT JOIN Orders ON Booking.BookingID = Orders.Booking_BookingID\n",
    "WHERE Orders.TotalCost > 60\"\"\""
   ]
  },
  {
   "cell_type": "code",
   "execution_count": 10,
   "id": "32b5aab6",
   "metadata": {},
   "outputs": [],
   "source": [
    "cursor.execute(join_query)"
   ]
  },
  {
   "cell_type": "code",
   "execution_count": 11,
   "id": "9c0c1353",
   "metadata": {},
   "outputs": [],
   "source": [
    "results = cursor.fetchall()"
   ]
  },
  {
   "cell_type": "code",
   "execution_count": 12,
   "id": "96e4b7c6",
   "metadata": {},
   "outputs": [
    {
     "name": "stdout",
     "output_type": "stream",
     "text": [
      "('BookingID', 'TableNumber', 'TotalCost')\n"
     ]
    }
   ],
   "source": [
    "print(cursor.column_names)"
   ]
  },
  {
   "cell_type": "code",
   "execution_count": 13,
   "id": "95c1ee07",
   "metadata": {},
   "outputs": [
    {
     "name": "stdout",
     "output_type": "stream",
     "text": [
      "[(1, 5, Decimal('250')), (2, 3, Decimal('450')), (3, 2, Decimal('150')), (4, 2, Decimal('100'))]\n"
     ]
    }
   ],
   "source": [
    "print(results)"
   ]
  },
  {
   "cell_type": "code",
   "execution_count": null,
   "id": "26e5e8d8",
   "metadata": {},
   "outputs": [],
   "source": []
  }
 ],
 "metadata": {
  "kernelspec": {
   "display_name": "Python 3 (ipykernel)",
   "language": "python",
   "name": "python3"
  },
  "language_info": {
   "codemirror_mode": {
    "name": "ipython",
    "version": 3
   },
   "file_extension": ".py",
   "mimetype": "text/x-python",
   "name": "python",
   "nbconvert_exporter": "python",
   "pygments_lexer": "ipython3",
   "version": "3.9.12"
  }
 },
 "nbformat": 4,
 "nbformat_minor": 5
}
